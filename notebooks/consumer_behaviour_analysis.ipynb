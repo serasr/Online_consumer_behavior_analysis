{
 "cells": [
  {
   "cell_type": "markdown",
   "id": "899f7095",
   "metadata": {},
   "source": [
    "# Consumer buying behaviour or sales analysis for online shopping"
   ]
  },
  {
   "cell_type": "code",
   "execution_count": 1,
   "id": "0b0c3ee3",
   "metadata": {},
   "outputs": [],
   "source": [
    "# Import required python libraries\n",
    "import pandas as pd\n",
    "import sqlite3\n",
    "import matplotlib.pyplot as plt\n",
    "import seaborn as sns"
   ]
  },
  {
   "cell_type": "code",
   "execution_count": 2,
   "id": "198a96d3",
   "metadata": {},
   "outputs": [],
   "source": [
    "# Load the corresponding data file\n",
    "df = pd.read_csv('online_shoppers_intention.csv')"
   ]
  },
  {
   "cell_type": "code",
   "execution_count": 3,
   "id": "4375a521",
   "metadata": {},
   "outputs": [],
   "source": [
    "# Connect to an in-memory SQLite database\n",
    "conn = sqlite3.connect(':memory:')"
   ]
  },
  {
   "cell_type": "code",
   "execution_count": 4,
   "id": "52404d97",
   "metadata": {},
   "outputs": [],
   "source": [
    "# Store the DataFrame in the database as a table named 'consumer_data'\n",
    "df.to_sql('consumer_data', conn, index=False)"
   ]
  },
  {
   "cell_type": "markdown",
   "id": "4a1a843e",
   "metadata": {},
   "source": [
    "## Data exploration and pre-processing"
   ]
  },
  {
   "cell_type": "code",
   "execution_count": 5,
   "id": "32aceed0",
   "metadata": {},
   "outputs": [
    {
     "name": "stdout",
     "output_type": "stream",
     "text": [
      "   Administrative  Administrative_Duration  Informational  \\\n",
      "0               0                      0.0              0   \n",
      "1               0                      0.0              0   \n",
      "2               0                      0.0              0   \n",
      "3               0                      0.0              0   \n",
      "4               0                      0.0              0   \n",
      "\n",
      "   Informational_Duration  ProductRelated  ProductRelated_Duration  \\\n",
      "0                     0.0               1                 0.000000   \n",
      "1                     0.0               2                64.000000   \n",
      "2                     0.0               1                 0.000000   \n",
      "3                     0.0               2                 2.666667   \n",
      "4                     0.0              10               627.500000   \n",
      "\n",
      "   BounceRates  ExitRates  PageValues  SpecialDay Month  OperatingSystems  \\\n",
      "0         0.20       0.20         0.0         0.0   Feb                 1   \n",
      "1         0.00       0.10         0.0         0.0   Feb                 2   \n",
      "2         0.20       0.20         0.0         0.0   Feb                 4   \n",
      "3         0.05       0.14         0.0         0.0   Feb                 3   \n",
      "4         0.02       0.05         0.0         0.0   Feb                 3   \n",
      "\n",
      "   Browser  Region  TrafficType        VisitorType  Weekend  Revenue  \n",
      "0        1       1            1  Returning_Visitor        0        0  \n",
      "1        2       1            2  Returning_Visitor        0        0  \n",
      "2        1       9            3  Returning_Visitor        0        0  \n",
      "3        2       2            4  Returning_Visitor        0        0  \n",
      "4        3       1            4  Returning_Visitor        1        0  \n"
     ]
    }
   ],
   "source": [
    "# Display the first few rows of the dataset using SQL\n",
    "query = \"SELECT * FROM consumer_data LIMIT 5;\"\n",
    "print(pd.read_sql_query(query, conn))"
   ]
  },
  {
   "cell_type": "markdown",
   "id": "38f2ebbe",
   "metadata": {},
   "source": [
    "#### NOTE: We can perform data exploration using SQL (as above) or pandas as depicted below"
   ]
  },
  {
   "cell_type": "code",
   "execution_count": 6,
   "id": "33b1c6ef",
   "metadata": {},
   "outputs": [
    {
     "name": "stdout",
     "output_type": "stream",
     "text": [
      "   Administrative  Administrative_Duration  Informational  \\\n",
      "0               0                      0.0              0   \n",
      "1               0                      0.0              0   \n",
      "2               0                      0.0              0   \n",
      "3               0                      0.0              0   \n",
      "4               0                      0.0              0   \n",
      "\n",
      "   Informational_Duration  ProductRelated  ProductRelated_Duration  \\\n",
      "0                     0.0               1                 0.000000   \n",
      "1                     0.0               2                64.000000   \n",
      "2                     0.0               1                 0.000000   \n",
      "3                     0.0               2                 2.666667   \n",
      "4                     0.0              10               627.500000   \n",
      "\n",
      "   BounceRates  ExitRates  PageValues  SpecialDay Month  OperatingSystems  \\\n",
      "0         0.20       0.20         0.0         0.0   Feb                 1   \n",
      "1         0.00       0.10         0.0         0.0   Feb                 2   \n",
      "2         0.20       0.20         0.0         0.0   Feb                 4   \n",
      "3         0.05       0.14         0.0         0.0   Feb                 3   \n",
      "4         0.02       0.05         0.0         0.0   Feb                 3   \n",
      "\n",
      "   Browser  Region  TrafficType        VisitorType  Weekend  Revenue  \n",
      "0        1       1            1  Returning_Visitor    False    False  \n",
      "1        2       1            2  Returning_Visitor    False    False  \n",
      "2        1       9            3  Returning_Visitor    False    False  \n",
      "3        2       2            4  Returning_Visitor    False    False  \n",
      "4        3       1            4  Returning_Visitor     True    False  \n"
     ]
    }
   ],
   "source": [
    "# Display the first few rows of the dataset\n",
    "print(df.head())"
   ]
  },
  {
   "cell_type": "code",
   "execution_count": 7,
   "id": "7b29416f",
   "metadata": {},
   "outputs": [
    {
     "name": "stdout",
     "output_type": "stream",
     "text": [
      "Administrative               int64\n",
      "Administrative_Duration    float64\n",
      "Informational                int64\n",
      "Informational_Duration     float64\n",
      "ProductRelated               int64\n",
      "ProductRelated_Duration    float64\n",
      "BounceRates                float64\n",
      "ExitRates                  float64\n",
      "PageValues                 float64\n",
      "SpecialDay                 float64\n",
      "Month                       object\n",
      "OperatingSystems             int64\n",
      "Browser                      int64\n",
      "Region                       int64\n",
      "TrafficType                  int64\n",
      "VisitorType                 object\n",
      "Weekend                       bool\n",
      "Revenue                       bool\n",
      "dtype: object\n"
     ]
    }
   ],
   "source": [
    "# Check the data types of each column\n",
    "print(df.dtypes)\n"
   ]
  },
  {
   "cell_type": "code",
   "execution_count": 8,
   "id": "f3d7d1d9",
   "metadata": {},
   "outputs": [
    {
     "name": "stdout",
     "output_type": "stream",
     "text": [
      "Administrative             0\n",
      "Administrative_Duration    0\n",
      "Informational              0\n",
      "Informational_Duration     0\n",
      "ProductRelated             0\n",
      "ProductRelated_Duration    0\n",
      "BounceRates                0\n",
      "ExitRates                  0\n",
      "PageValues                 0\n",
      "SpecialDay                 0\n",
      "Month                      0\n",
      "OperatingSystems           0\n",
      "Browser                    0\n",
      "Region                     0\n",
      "TrafficType                0\n",
      "VisitorType                0\n",
      "Weekend                    0\n",
      "Revenue                    0\n",
      "dtype: int64\n"
     ]
    }
   ],
   "source": [
    "# Check for missing values\n",
    "print(df.isnull().sum())"
   ]
  },
  {
   "cell_type": "code",
   "execution_count": 9,
   "id": "a6be2cba",
   "metadata": {},
   "outputs": [
    {
     "name": "stdout",
     "output_type": "stream",
     "text": [
      "       Administrative  Administrative_Duration  Informational  \\\n",
      "count    12330.000000             12330.000000   12330.000000   \n",
      "mean         2.315166                80.818611       0.503569   \n",
      "std          3.321784               176.779107       1.270156   \n",
      "min          0.000000                 0.000000       0.000000   \n",
      "25%          0.000000                 0.000000       0.000000   \n",
      "50%          1.000000                 7.500000       0.000000   \n",
      "75%          4.000000                93.256250       0.000000   \n",
      "max         27.000000              3398.750000      24.000000   \n",
      "\n",
      "       Informational_Duration  ProductRelated  ProductRelated_Duration  \\\n",
      "count            12330.000000    12330.000000             12330.000000   \n",
      "mean                34.472398       31.731468              1194.746220   \n",
      "std                140.749294       44.475503              1913.669288   \n",
      "min                  0.000000        0.000000                 0.000000   \n",
      "25%                  0.000000        7.000000               184.137500   \n",
      "50%                  0.000000       18.000000               598.936905   \n",
      "75%                  0.000000       38.000000              1464.157213   \n",
      "max               2549.375000      705.000000             63973.522230   \n",
      "\n",
      "        BounceRates     ExitRates    PageValues    SpecialDay  \\\n",
      "count  12330.000000  12330.000000  12330.000000  12330.000000   \n",
      "mean       0.022191      0.043073      5.889258      0.061427   \n",
      "std        0.048488      0.048597     18.568437      0.198917   \n",
      "min        0.000000      0.000000      0.000000      0.000000   \n",
      "25%        0.000000      0.014286      0.000000      0.000000   \n",
      "50%        0.003112      0.025156      0.000000      0.000000   \n",
      "75%        0.016813      0.050000      0.000000      0.000000   \n",
      "max        0.200000      0.200000    361.763742      1.000000   \n",
      "\n",
      "       OperatingSystems       Browser        Region   TrafficType  \n",
      "count      12330.000000  12330.000000  12330.000000  12330.000000  \n",
      "mean           2.124006      2.357097      3.147364      4.069586  \n",
      "std            0.911325      1.717277      2.401591      4.025169  \n",
      "min            1.000000      1.000000      1.000000      1.000000  \n",
      "25%            2.000000      2.000000      1.000000      2.000000  \n",
      "50%            2.000000      2.000000      3.000000      2.000000  \n",
      "75%            3.000000      2.000000      4.000000      4.000000  \n",
      "max            8.000000     13.000000      9.000000     20.000000  \n"
     ]
    }
   ],
   "source": [
    "# Summary statistics\n",
    "print(df.describe())"
   ]
  },
  {
   "cell_type": "markdown",
   "id": "d534bde0",
   "metadata": {},
   "source": [
    "## In-depth Exploratory Data Analysis (EDA) and insights based on the patterns observed in the data"
   ]
  },
  {
   "cell_type": "markdown",
   "id": "23f8c358",
   "metadata": {},
   "source": [
    "### Seasonal Peaks and Visitor Engagement\n",
    "\n",
    "The analysis of the frequency distributions for the categorical variables provides valuable insights into consumer behavior and visitor engagement patterns. Firstly, regarding the distribution of months, it is evident that certain periods exhibit notably higher frequencies, notably May, November, March, and December. These months likely signify peak shopping seasons, indicative of heightened consumer activity and purchasing behavior. Such insights are invaluable for businesses seeking to strategically allocate resources and tailor marketing initiatives to capitalize on these periods of heightened demand. Additionally, the seasonal trends inferred from the distribution underscore the importance of aligning promotional efforts and product offerings with the evolving preferences and purchasing behaviors of consumers throughout the year.\n",
    "\n",
    "Turning to the visitor segmentation based on VisitorType, the prevalence of returning visitors emerges as a prominent trend, with a significant majority identified as such. Conversely, new visitors and a smaller \"Other\" category constitute the remainder of the dataset. This segmentation offers nuanced insights into the composition of website visitors, providing a basis for tailored marketing strategies and customer engagement initiatives. For instance, while the presence of a loyal base of returning visitors underscores the importance of retention strategies, the identification of new visitors presents opportunities for expansion and acquisition efforts. Businesses can leverage these insights to refine their marketing approaches, fostering customer loyalty among returning visitors while concurrently implementing strategies to attract and convert new visitors to sustain growth and enhance overall customer engagement."
   ]
  },
  {
   "cell_type": "code",
   "execution_count": 10,
   "id": "daa8355b",
   "metadata": {},
   "outputs": [
    {
     "name": "stdout",
     "output_type": "stream",
     "text": [
      "May     3364\n",
      "Nov     2998\n",
      "Mar     1907\n",
      "Dec     1727\n",
      "Oct      549\n",
      "Sep      448\n",
      "Aug      433\n",
      "Jul      432\n",
      "June     288\n",
      "Feb      184\n",
      "Name: Month, dtype: int64\n",
      "Returning_Visitor    10551\n",
      "New_Visitor           1694\n",
      "Other                   85\n",
      "Name: VisitorType, dtype: int64\n"
     ]
    }
   ],
   "source": [
    "# Frequency distribution for categorical variables\n",
    "print(df['Month'].value_counts())\n",
    "print(df['VisitorType'].value_counts())"
   ]
  },
  {
   "cell_type": "markdown",
   "id": "62459793",
   "metadata": {},
   "source": [
    "### Insights and Recommendations for Product-Related Behavior Analysis\n",
    "\n",
    "The analysis of product-related behavior yields several valuable insights into customer engagement and revenue generation on the website. Firstly, it is evident that revenue-generating customers exhibit a higher level of interaction with product-related pages compared to non-revenue-generating customers. On average, revenue-generating customers interact with approximately 48.21 product-related pages, while non-revenue-generating customers interact with approximately 28.71 pages. This suggests that encouraging customers to explore a wider range of product offerings may increase the likelihood of conversion and revenue generation.\n",
    "\n",
    "Furthermore, the analysis reveals a significant disparity in the duration of product-related page visits between revenue-generating and non-revenue-generating customers. Revenue-generating customers spend, on average, approximately 1876.21 seconds engaging with product-related content, whereas non-revenue-generating customers spend approximately 1069.99 seconds. This indicates that revenue-generating customers demonstrate a deeper level of interest and engagement with the products, potentially signaling an intention to make a purchase. Optimizing the presentation and accessibility of product information to enhance the browsing experience could further encourage prolonged engagement and increase conversion rates.\n",
    "\n",
    "Additionally, the average page value, representing the monetary value attributed to each page visit, is substantially higher for revenue-generating customers compared to non-revenue-generating customers. Revenue-generating customers contribute an average page value of approximately 27.26, while non-revenue-generating customers contribute approximately 1.98. This underscores the importance of identifying and prioritizing high-value pages to maximize revenue generation. Implementing targeted marketing strategies and personalized recommendations based on the content of these pages can effectively drive conversion and increase average order value.\n",
    "\n",
    "Lastly, the analysis highlights notable differences in bounce rates and exit rates between revenue-generating and non-revenue-generating customers. Revenue-generating customers exhibit significantly lower bounce rates (approximately 0.0051) and exit rates (approximately 0.0196) compared to their non-revenue-generating counterparts (bounce rate: approximately 0.0253, exit rate: approximately 0.0474). Lower bounce and exit rates signify higher engagement levels and a greater likelihood of continued interaction with the website. Addressing potential barriers to navigation, streamlining the checkout process, and offering incentives for completing purchases can help reduce bounce and exit rates, ultimately facilitating a smoother path to conversion."
   ]
  },
  {
   "cell_type": "code",
   "execution_count": 11,
   "id": "e2c8cb29",
   "metadata": {},
   "outputs": [
    {
     "name": "stdout",
     "output_type": "stream",
     "text": [
      "         ProductRelated  ProductRelated_Duration  PageValues  BounceRates  \\\n",
      "Revenue                                                                     \n",
      "0             28.714642              1069.987809    1.975998     0.025317   \n",
      "1             48.210168              1876.209615   27.264518     0.005117   \n",
      "\n",
      "         ExitRates  \n",
      "Revenue             \n",
      "0         0.047378  \n",
      "1         0.019555  \n"
     ]
    }
   ],
   "source": [
    "# Analyze product-related behavior using SQL\n",
    "query = \"\"\"\n",
    "        SELECT ProductRelated, ProductRelated_Duration, PageValues, BounceRates, ExitRates, Revenue\n",
    "        FROM consumer_data;\n",
    "        \"\"\"\n",
    "product_behavior = pd.read_sql_query(query, conn)\n",
    "print(product_behavior.groupby('Revenue').mean())"
   ]
  },
  {
   "cell_type": "markdown",
   "id": "b4b2d0a2",
   "metadata": {},
   "source": [
    "### Visitor Segmentation Unveils Engagement and Conversion Trends\n",
    "\n",
    "Analyzing the average number of product-related pages visited by different visitor types yields valuable insights into their behavior and preferences. Returning visitors demonstrate the highest level of engagement with the website, as evidenced by their significantly higher average of 34.08 product-related pages visited. This suggests a strong inclination towards exploring a wider range of products or services compared to other visitor categories.\n",
    "\n",
    "In contrast, new visitors exhibit a comparatively lower level of engagement, with an average of 18.05 product-related pages visited. This pattern suggests that new visitors may be in an exploratory phase, familiarizing themselves with the offerings and navigating the website for the first time. Meanwhile, visitors categorized as \"Other\" display an intermediate level of engagement, with an average of 12.47 product-related pages visited.\n",
    "\n",
    "The observed differences in visitor behavior underscore the importance of tailoring marketing strategies and website experiences to accommodate distinct visitor segments. For instance, optimizing the website's navigation paths and product recommendations based on visitor type can enhance engagement and encourage visitors to explore more pages. Moreover, personalized marketing campaigns targeted towards returning visitors, leveraging their browsing history and preferences, hold potential to drive conversions more effectively."
   ]
  },
  {
   "cell_type": "code",
   "execution_count": 12,
   "id": "4d23484f",
   "metadata": {},
   "outputs": [
    {
     "name": "stdout",
     "output_type": "stream",
     "text": [
      "         VisitorType  Avg_ProductRelated\n",
      "0        New_Visitor           18.054900\n",
      "1              Other           12.470588\n",
      "2  Returning_Visitor           34.082457\n"
     ]
    }
   ],
   "source": [
    "# Segment consumers by VisitorType using SQL\n",
    "query = \"\"\"\n",
    "        SELECT VisitorType, AVG(ProductRelated) AS Avg_ProductRelated\n",
    "        FROM consumer_data\n",
    "        GROUP BY VisitorType;\n",
    "        \"\"\"\n",
    "visitor_segmentation = pd.read_sql_query(query, conn)\n",
    "print(visitor_segmentation)"
   ]
  },
  {
   "cell_type": "markdown",
   "id": "af1e9d3c",
   "metadata": {},
   "source": [
    "### Decoding Monthly User Engagement Trends\n",
    "\n",
    "The time-series analysis of monthly behavior unveils significant insights into the fluctuation of user engagement with product-related content across different months. These findings indicate discernible seasonal trends and highlight periods of heightened activity and subdued engagement throughout the year. Notably, November emerges as a peak month, characterized by the highest average number of product-related page visits, reaching 46.04 pages. This surge in user interaction likely correlates with traditional holiday shopping events, particularly Black Friday promotions.\n",
    "\n",
    "Conversely, February represents a trough in user engagement, recording the lowest average of 11.18 product-related pages visited. Such observations underscore the importance of aligning marketing initiatives and resource allocation with these seasonal fluctuations in user behavior. Leveraging insights from peak periods can inform targeted marketing campaigns and promotional activities to capitalize on heightened user engagement, fostering increased customer acquisition and retention.\n",
    "\n",
    "Moreover, understanding the underlying factors driving these fluctuations is paramount. Variations in user behavior may reflect shifts in consumer preferences, external influences such as seasonal events or economic conditions, and the efficacy of marketing strategies deployed during specific periods. By conducting a comparative analysis with other relevant metrics such as revenue and bounce rates, businesses can gain deeper insights into the holistic impact of monthly behavior patterns on overall performance."
   ]
  },
  {
   "cell_type": "code",
   "execution_count": 13,
   "id": "c3d71514",
   "metadata": {},
   "outputs": [
    {
     "name": "stdout",
     "output_type": "stream",
     "text": [
      "Month\n",
      "Aug     38.258661\n",
      "Dec     27.994789\n",
      "Feb     11.184783\n",
      "Jul     36.407407\n",
      "June    36.065972\n",
      "Mar     19.808600\n",
      "May     26.487812\n",
      "Nov     46.038692\n",
      "Oct     33.566485\n",
      "Sep     33.104911\n",
      "Name: ProductRelated, dtype: float64\n"
     ]
    }
   ],
   "source": [
    "# Time-series analysis for monthly behavior\n",
    "monthly_behavior = df.groupby('Month')['ProductRelated'].mean()\n",
    "print(monthly_behavior)"
   ]
  },
  {
   "cell_type": "markdown",
   "id": "66e9ad16",
   "metadata": {},
   "source": [
    "### Frequency Trends in Consumer Engagement with Product-Related Pages\n",
    "\n",
    "The histogram plot illustrates a clear trend in consumer behavior, showcasing a gradual decline in frequency as the number of product-related pages visited increases, peaking within the 0-40 range. This insight underscores the importance of optimizing website layout and content organization to facilitate seamless navigation and enhance user engagement. By strategically prioritizing key product categories and implementing retention strategies beyond the 40-page threshold, businesses can effectively prolong browsing sessions, maximize conversion opportunities, and bolster overall customer satisfaction."
   ]
  },
  {
   "cell_type": "code",
   "execution_count": 14,
   "id": "234b4bd9",
   "metadata": {},
   "outputs": [
    {
     "data": {
      "image/png": "[encoded data removed]",
      "text/plain": [
       "<Figure size 432x288 with 1 Axes>"
      ]
     },
     "metadata": {
      "needs_background": "light"
     },
     "output_type": "display_data"
    }
   ],
   "source": [
    "# Histogram of ProductRelated Pages frequency\n",
    "sns.histplot(df['ProductRelated'], bins=20, kde=False)\n",
    "plt.xlabel('Number of ProductRelated Pages')\n",
    "plt.ylabel('Frequency')\n",
    "plt.show()\n",
    "\n"
   ]
  },
  {
   "cell_type": "code",
   "execution_count": 15,
   "id": "cfbfb06c",
   "metadata": {},
   "outputs": [],
   "source": [
    "# Expore data in Tableau for additional visualizations"
   ]
  },
  {
   "cell_type": "code",
   "execution_count": null,
   "id": "bf0b992d",
   "metadata": {},
   "outputs": [],
   "source": []
  }
 ],
 "metadata": {
  "kernelspec": {
   "display_name": "Python 3",
   "language": "python",
   "name": "python3"
  },
  "language_info": {
   "codemirror_mode": {
    "name": "ipython",
    "version": 3
   },
   "file_extension": ".py",
   "mimetype": "text/x-python",
   "name": "python",
   "nbconvert_exporter": "python",
   "pygments_lexer": "ipython3",
   "version": "3.6.3"
  }
 },
 "nbformat": 4,
 "nbformat_minor": 5
}
