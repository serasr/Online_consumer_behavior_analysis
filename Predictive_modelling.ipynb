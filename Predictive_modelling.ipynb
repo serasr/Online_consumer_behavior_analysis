{
 "cells": [
  {
   "cell_type": "markdown",
   "id": "039f4ba5",
   "metadata": {},
   "source": [
    "# Predictive modelling on consumer buying behaviour or sales for online shopping"
   ]
  },
  {
   "cell_type": "code",
   "execution_count": 1,
   "id": "9e03124c",
   "metadata": {},
   "outputs": [
    {
     "name": "stdout",
     "output_type": "stream",
     "text": [
      "   Administrative  Administrative_Duration  Informational  \\\n",
      "0               0                      0.0              0   \n",
      "1               0                      0.0              0   \n",
      "2               0                      0.0              0   \n",
      "3               0                      0.0              0   \n",
      "4               0                      0.0              0   \n",
      "\n",
      "   Informational_Duration  ProductRelated  ProductRelated_Duration  \\\n",
      "0                     0.0               1                 0.000000   \n",
      "1                     0.0               2                64.000000   \n",
      "2                     0.0               1                 0.000000   \n",
      "3                     0.0               2                 2.666667   \n",
      "4                     0.0              10               627.500000   \n",
      "\n",
      "   BounceRates  ExitRates  PageValues  SpecialDay Month  OperatingSystems  \\\n",
      "0         0.20       0.20         0.0         0.0   Feb                 1   \n",
      "1         0.00       0.10         0.0         0.0   Feb                 2   \n",
      "2         0.20       0.20         0.0         0.0   Feb                 4   \n",
      "3         0.05       0.14         0.0         0.0   Feb                 3   \n",
      "4         0.02       0.05         0.0         0.0   Feb                 3   \n",
      "\n",
      "   Browser  Region  TrafficType        VisitorType  Weekend  Revenue  \n",
      "0        1       1            1  Returning_Visitor        0        0  \n",
      "1        2       1            2  Returning_Visitor        0        0  \n",
      "2        1       9            3  Returning_Visitor        0        0  \n",
      "3        2       2            4  Returning_Visitor        0        0  \n",
      "4        3       1            4  Returning_Visitor        1        0  \n",
      "   Administrative  Administrative_Duration  Informational  \\\n",
      "0               0                      0.0              0   \n",
      "1               0                      0.0              0   \n",
      "2               0                      0.0              0   \n",
      "3               0                      0.0              0   \n",
      "4               0                      0.0              0   \n",
      "\n",
      "   Informational_Duration  ProductRelated  ProductRelated_Duration  \\\n",
      "0                     0.0               1                 0.000000   \n",
      "1                     0.0               2                64.000000   \n",
      "2                     0.0               1                 0.000000   \n",
      "3                     0.0               2                 2.666667   \n",
      "4                     0.0              10               627.500000   \n",
      "\n",
      "   BounceRates  ExitRates  PageValues  SpecialDay Month  OperatingSystems  \\\n",
      "0         0.20       0.20         0.0         0.0   Feb                 1   \n",
      "1         0.00       0.10         0.0         0.0   Feb                 2   \n",
      "2         0.20       0.20         0.0         0.0   Feb                 4   \n",
      "3         0.05       0.14         0.0         0.0   Feb                 3   \n",
      "4         0.02       0.05         0.0         0.0   Feb                 3   \n",
      "\n",
      "   Browser  Region  TrafficType        VisitorType  Weekend  Revenue  \n",
      "0        1       1            1  Returning_Visitor    False    False  \n",
      "1        2       1            2  Returning_Visitor    False    False  \n",
      "2        1       9            3  Returning_Visitor    False    False  \n",
      "3        2       2            4  Returning_Visitor    False    False  \n",
      "4        3       1            4  Returning_Visitor     True    False  \n",
      "Administrative               int64\n",
      "Administrative_Duration    float64\n",
      "Informational                int64\n",
      "Informational_Duration     float64\n",
      "ProductRelated               int64\n",
      "ProductRelated_Duration    float64\n",
      "BounceRates                float64\n",
      "ExitRates                  float64\n",
      "PageValues                 float64\n",
      "SpecialDay                 float64\n",
      "Month                       object\n",
      "OperatingSystems             int64\n",
      "Browser                      int64\n",
      "Region                       int64\n",
      "TrafficType                  int64\n",
      "VisitorType                 object\n",
      "Weekend                       bool\n",
      "Revenue                       bool\n",
      "dtype: object\n",
      "Administrative             0\n",
      "Administrative_Duration    0\n",
      "Informational              0\n",
      "Informational_Duration     0\n",
      "ProductRelated             0\n",
      "ProductRelated_Duration    0\n",
      "BounceRates                0\n",
      "ExitRates                  0\n",
      "PageValues                 0\n",
      "SpecialDay                 0\n",
      "Month                      0\n",
      "OperatingSystems           0\n",
      "Browser                    0\n",
      "Region                     0\n",
      "TrafficType                0\n",
      "VisitorType                0\n",
      "Weekend                    0\n",
      "Revenue                    0\n",
      "dtype: int64\n",
      "       Administrative  Administrative_Duration  Informational  \\\n",
      "count    12330.000000             12330.000000   12330.000000   \n",
      "mean         2.315166                80.818611       0.503569   \n",
      "std          3.321784               176.779107       1.270156   \n",
      "min          0.000000                 0.000000       0.000000   \n",
      "25%          0.000000                 0.000000       0.000000   \n",
      "50%          1.000000                 7.500000       0.000000   \n",
      "75%          4.000000                93.256250       0.000000   \n",
      "max         27.000000              3398.750000      24.000000   \n",
      "\n",
      "       Informational_Duration  ProductRelated  ProductRelated_Duration  \\\n",
      "count            12330.000000    12330.000000             12330.000000   \n",
      "mean                34.472398       31.731468              1194.746220   \n",
      "std                140.749294       44.475503              1913.669288   \n",
      "min                  0.000000        0.000000                 0.000000   \n",
      "25%                  0.000000        7.000000               184.137500   \n",
      "50%                  0.000000       18.000000               598.936905   \n",
      "75%                  0.000000       38.000000              1464.157213   \n",
      "max               2549.375000      705.000000             63973.522230   \n",
      "\n",
      "        BounceRates     ExitRates    PageValues    SpecialDay  \\\n",
      "count  12330.000000  12330.000000  12330.000000  12330.000000   \n",
      "mean       0.022191      0.043073      5.889258      0.061427   \n",
      "std        0.048488      0.048597     18.568437      0.198917   \n",
      "min        0.000000      0.000000      0.000000      0.000000   \n",
      "25%        0.000000      0.014286      0.000000      0.000000   \n",
      "50%        0.003112      0.025156      0.000000      0.000000   \n",
      "75%        0.016813      0.050000      0.000000      0.000000   \n",
      "max        0.200000      0.200000    361.763742      1.000000   \n",
      "\n",
      "       OperatingSystems       Browser        Region   TrafficType  \n",
      "count      12330.000000  12330.000000  12330.000000  12330.000000  \n",
      "mean           2.124006      2.357097      3.147364      4.069586  \n",
      "std            0.911325      1.717277      2.401591      4.025169  \n",
      "min            1.000000      1.000000      1.000000      1.000000  \n",
      "25%            2.000000      2.000000      1.000000      2.000000  \n",
      "50%            2.000000      2.000000      3.000000      2.000000  \n",
      "75%            3.000000      2.000000      4.000000      4.000000  \n",
      "max            8.000000     13.000000      9.000000     20.000000  \n",
      "May     3364\n",
      "Nov     2998\n",
      "Mar     1907\n",
      "Dec     1727\n",
      "Oct      549\n",
      "Sep      448\n",
      "Aug      433\n",
      "Jul      432\n",
      "June     288\n",
      "Feb      184\n",
      "Name: Month, dtype: int64\n",
      "Returning_Visitor    10551\n",
      "New_Visitor           1694\n",
      "Other                   85\n",
      "Name: VisitorType, dtype: int64\n",
      "         ProductRelated  ProductRelated_Duration  PageValues  BounceRates  \\\n",
      "Revenue                                                                     \n",
      "0             28.714642              1069.987809    1.975998     0.025317   \n",
      "1             48.210168              1876.209615   27.264518     0.005117   \n",
      "\n",
      "         ExitRates  \n",
      "Revenue             \n",
      "0         0.047378  \n",
      "1         0.019555  \n",
      "         VisitorType  Avg_ProductRelated\n",
      "0        New_Visitor           18.054900\n",
      "1              Other           12.470588\n",
      "2  Returning_Visitor           34.082457\n",
      "Month\n",
      "Aug     38.258661\n",
      "Dec     27.994789\n",
      "Feb     11.184783\n",
      "Jul     36.407407\n",
      "June    36.065972\n",
      "Mar     19.808600\n",
      "May     26.487812\n",
      "Nov     46.038692\n",
      "Oct     33.566485\n",
      "Sep     33.104911\n",
      "Name: ProductRelated, dtype: float64\n"
     ]
    },
    {
     "data": {
      "image/png": "[encoded data removed]",
      "text/plain": [
       "<Figure size 432x288 with 1 Axes>"
      ]
     },
     "metadata": {
      "needs_background": "light"
     },
     "output_type": "display_data"
    }
   ],
   "source": [
    "# Retrieve the consumer_behaviour_analysis notebook\n",
    "%run ./consumer_behaviour_analysis.ipynb"
   ]
  },
  {
   "cell_type": "markdown",
   "id": "c0320335",
   "metadata": {},
   "source": [
    "### Identifying class imbalance "
   ]
  },
  {
   "cell_type": "code",
   "execution_count": 2,
   "id": "fb347a55",
   "metadata": {},
   "outputs": [
    {
     "name": "stdout",
     "output_type": "stream",
     "text": [
      "False    0.845255\n",
      "True     0.154745\n",
      "Name: Revenue, dtype: float64\n"
     ]
    }
   ],
   "source": [
    "class_distribution = df['Revenue'].value_counts(normalize=True)\n",
    "print(class_distribution)\n"
   ]
  },
  {
   "cell_type": "code",
   "execution_count": 3,
   "id": "f0550ae7",
   "metadata": {},
   "outputs": [
    {
     "data": {
      "image/png": "[encoded data removed]",
      "text/plain": [
       "<Figure size 432x288 with 1 Axes>"
      ]
     },
     "metadata": {
      "needs_background": "light"
     },
     "output_type": "display_data"
    }
   ],
   "source": [
    "\n",
    "# Visualizing class proportions\n",
    "plt.figure(figsize=(6, 4))\n",
    "class_distribution.plot(kind='bar')\n",
    "plt.title('Class Distribution of Revenue')\n",
    "plt.xlabel('Revenue')\n",
    "plt.ylabel('Proportion')\n",
    "plt.xticks(rotation=0)\n",
    "plt.show()\n"
   ]
  },
  {
   "cell_type": "markdown",
   "id": "a25b8583",
   "metadata": {},
   "source": [
    "As observed, the proportion of 'False' in Revenue is significantly higher than 'True'. Therefore, we have to address it appropriately to ensure that our model doesn't become biased towards the majority class. Here, we have implemented oversampling using the Synthetic Minority Over-sampling Technique (SMOTE) technique and train a logistic regression model with class weighting."
   ]
  },
  {
   "cell_type": "markdown",
   "id": "d7a621cb",
   "metadata": {},
   "source": [
    "### Implementation of logistic regression model with class weighting"
   ]
  },
  {
   "cell_type": "code",
   "execution_count": 4,
   "id": "cd78282e",
   "metadata": {},
   "outputs": [],
   "source": [
    "# Import required modules\n",
    "from imblearn.over_sampling import SMOTE\n",
    "from sklearn.model_selection import train_test_split\n",
    "from sklearn.linear_model import LogisticRegression\n",
    "from sklearn.metrics import accuracy_score, classification_report\n",
    "from sklearn.utils.class_weight import compute_class_weight"
   ]
  },
  {
   "cell_type": "code",
   "execution_count": 5,
   "id": "5419c2df",
   "metadata": {},
   "outputs": [
    {
     "name": "stdout",
     "output_type": "stream",
     "text": [
      "Accuracy: 0.8746958637469586\n",
      "Classification Report:\n",
      "               precision    recall  f1-score   support\n",
      "\n",
      "       False       0.95      0.90      0.92      2055\n",
      "        True       0.60      0.74      0.66       411\n",
      "\n",
      "    accuracy                           0.87      2466\n",
      "   macro avg       0.77      0.82      0.79      2466\n",
      "weighted avg       0.89      0.87      0.88      2466\n",
      "\n"
     ]
    }
   ],
   "source": [
    "# Assign X and y with features and target variable\n",
    "X = df[['ProductRelated', 'PageValues']]\n",
    "y = df['Revenue']\n",
    "\n",
    "# Split the dataset into train and test sets\n",
    "X_train, X_test, y_train, y_test = train_test_split(X, y, test_size=0.2, random_state=42)\n",
    "\n",
    "# Apply SMOTE to oversample the minority class\n",
    "smote = SMOTE(random_state=42)\n",
    "X_train_resampled, y_train_resampled = smote.fit_resample(X_train, y_train)\n",
    "\n",
    "# Compute class weights\n",
    "class_weights = compute_class_weight('balanced', classes=[False, True], y=y_train_resampled)\n",
    "\n",
    "# Train logistic regression model with class weights\n",
    "model = LogisticRegression(class_weight={False: class_weights[0], True: class_weights[1]})\n",
    "model.fit(X_train_resampled, y_train_resampled)\n",
    "\n",
    "# Make predictions on the test set\n",
    "y_pred = model.predict(X_test)\n",
    "\n",
    "# Evaluate model performance\n",
    "accuracy = accuracy_score(y_test, y_pred)\n",
    "print(\"Accuracy:\", accuracy)\n",
    "print(\"Classification Report:\\n\", classification_report(y_test, y_pred))"
   ]
  },
  {
   "cell_type": "markdown",
   "id": "c4b2bfd8",
   "metadata": {},
   "source": [
    "### Insights from the claasification report and how effective the model can be for future predictions\n",
    "\n",
    "The insights gleaned from the classification report offer valuable insights into consumer sales and the predictive capabilities of the model concerning revenue generation. \n",
    "\n",
    "#### Accuracy:\n",
    "\n",
    "- The overall accuracy of the model is 0.87, indicating that it correctly predicted the class labels for 87% of the instances in the test set.\n",
    "\n",
    "\n",
    "#### Precision:\n",
    "\n",
    "- The precision score of 0.95 for the \"False\" class (non-revenue-generating visits) signifies that when the model anticipates a visit won't culminate in a sale, it is correct 95% of the time. This underscores its robust ability to discern instances where consumers engage with the website without making purchases.\n",
    "- Conversely, the precision score of 0.60 for the \"True\" class (revenue-generating visits) suggests a lower precision in identifying instances of consumer purchases. This implies the existence of false positive predictions, where non-sales visits are incorrectly identified as revenue-generating.\n",
    "\n",
    "\n",
    "#### Recall:\n",
    "\n",
    "- With a recall score of 0.90 for the \"False\" class, the model accurately identifies 90% of instances where consumers refrain from making purchases. This indicates the model's efficacy in capturing the majority of non-sales visits.\n",
    "- The moderate recall score of 0.74 for the \"True\" class indicates that the model successfully identifies 74% of instances where consumers make purchases. While significant, this suggests potential for improvement in capturing more sales visits.\n",
    "\n",
    "\n",
    "#### F1-Score:\n",
    "\n",
    "- The high F1-score of 0.92 for the \"False\" class signifies a balanced precision-recall trade-off for non-sales visits, indicating strong overall performance in identifying these instances.\n",
    "- Conversely, the lower F1-score of 0.66 for the \"True\" class suggests a slightly less balanced precision-recall trade-off for sales visits compared to non-sales visits. This highlights a potential trade-off between precision and recall in predicting revenue generation."
   ]
  },
  {
   "cell_type": "markdown",
   "id": "aba5e7e4",
   "metadata": {},
   "source": [
    "### Conclusion\n",
    "\n",
    "The logistic regression model, trained on consumer behavior data, yields valuable insights into revenue generation and consumer purchasing patterns. Through an examination of features such as the number of product-related pages visited and page values, the model accurately predicts the likelihood of purchase during individual website sessions. Its ability to discern between browsing and purchasing behavior is underscored by its high precision in identifying non-sales visits. However, there remains room for improvement in capturing all instances of revenue generation, as indicated by its moderate recall for sales visits. Nevertheless, the model furnishes actionable insights for businesses, encompassing revenue forecasting, customer segmentation, identification of revenue drivers, optimization of marketing endeavors, and enhancements to website functionality. By capitalizing on these insights, businesses can tailor their strategies to capitalize on sales opportunities, enhance user experiences, and foster sustainable growth."
   ]
  },
  {
   "cell_type": "code",
   "execution_count": null,
   "id": "983ba4dc",
   "metadata": {},
   "outputs": [],
   "source": []
  }
 ],
 "metadata": {
  "kernelspec": {
   "display_name": "Python 3",
   "language": "python",
   "name": "python3"
  },
  "language_info": {
   "codemirror_mode": {
    "name": "ipython",
    "version": 3
   },
   "file_extension": ".py",
   "mimetype": "text/x-python",
   "name": "python",
   "nbconvert_exporter": "python",
   "pygments_lexer": "ipython3",
   "version": "3.6.3"
  }
 },
 "nbformat": 4,
 "nbformat_minor": 5
}
